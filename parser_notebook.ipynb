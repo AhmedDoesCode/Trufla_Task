{
 "cells": [
  {
   "cell_type": "code",
   "execution_count": 10,
   "source": [
    "import pandas as pd"
   ],
   "outputs": [],
   "metadata": {}
  },
  {
   "cell_type": "code",
   "execution_count": 11,
   "source": [
    "customers_file = pd.read_csv(\"input_data/csv/customers_file1.csv\")\r\n",
    "vehicles_file = pd.read_csv(\"input_data/csv/vehicles_file1.csv\")"
   ],
   "outputs": [],
   "metadata": {}
  },
  {
   "cell_type": "code",
   "execution_count": 12,
   "source": [
    "customers_file"
   ],
   "outputs": [
    {
     "output_type": "execute_result",
     "data": {
      "text/plain": [
       "       id              name                    address         phone  \\\n",
       "0  ID5410  Melissa T Miller         2837  Fidler Drive  210-624-7306   \n",
       "1  ID9857   Daniel I Walker       3853  Hilltop Street  413-655-7397   \n",
       "2  ID6651  Pauline J Buxton  1927  Pinnickinick Street  360-727-9275   \n",
       "\n",
       "         date  \n",
       "0  31/01/2020  \n",
       "1  25/04/2020  \n",
       "2  16/03/2020  "
      ],
      "text/html": [
       "<div>\n",
       "<style scoped>\n",
       "    .dataframe tbody tr th:only-of-type {\n",
       "        vertical-align: middle;\n",
       "    }\n",
       "\n",
       "    .dataframe tbody tr th {\n",
       "        vertical-align: top;\n",
       "    }\n",
       "\n",
       "    .dataframe thead th {\n",
       "        text-align: right;\n",
       "    }\n",
       "</style>\n",
       "<table border=\"1\" class=\"dataframe\">\n",
       "  <thead>\n",
       "    <tr style=\"text-align: right;\">\n",
       "      <th></th>\n",
       "      <th>id</th>\n",
       "      <th>name</th>\n",
       "      <th>address</th>\n",
       "      <th>phone</th>\n",
       "      <th>date</th>\n",
       "    </tr>\n",
       "  </thead>\n",
       "  <tbody>\n",
       "    <tr>\n",
       "      <th>0</th>\n",
       "      <td>ID5410</td>\n",
       "      <td>Melissa T Miller</td>\n",
       "      <td>2837  Fidler Drive</td>\n",
       "      <td>210-624-7306</td>\n",
       "      <td>31/01/2020</td>\n",
       "    </tr>\n",
       "    <tr>\n",
       "      <th>1</th>\n",
       "      <td>ID9857</td>\n",
       "      <td>Daniel I Walker</td>\n",
       "      <td>3853  Hilltop Street</td>\n",
       "      <td>413-655-7397</td>\n",
       "      <td>25/04/2020</td>\n",
       "    </tr>\n",
       "    <tr>\n",
       "      <th>2</th>\n",
       "      <td>ID6651</td>\n",
       "      <td>Pauline J Buxton</td>\n",
       "      <td>1927  Pinnickinick Street</td>\n",
       "      <td>360-727-9275</td>\n",
       "      <td>16/03/2020</td>\n",
       "    </tr>\n",
       "  </tbody>\n",
       "</table>\n",
       "</div>"
      ]
     },
     "metadata": {},
     "execution_count": 12
    }
   ],
   "metadata": {}
  },
  {
   "cell_type": "code",
   "execution_count": 13,
   "source": [
    "vehicles_file"
   ],
   "outputs": [
    {
     "output_type": "execute_result",
     "data": {
      "text/plain": [
       "      id       make         vin_number  model_year owner_id\n",
       "0  V3015  Chevrolet  1G1ZD5EB6AF0053EX        2010   ID9857\n",
       "1  V2014      Honda  JH2SC3327WM200123        1998   ID9857\n",
       "2  V1475       Ford  1FTSW3XG5FKB11488        2015   ID5410\n",
       "3   V786     Nissan  JN6JD02S0E0011849        2014   ID6651"
      ],
      "text/html": [
       "<div>\n",
       "<style scoped>\n",
       "    .dataframe tbody tr th:only-of-type {\n",
       "        vertical-align: middle;\n",
       "    }\n",
       "\n",
       "    .dataframe tbody tr th {\n",
       "        vertical-align: top;\n",
       "    }\n",
       "\n",
       "    .dataframe thead th {\n",
       "        text-align: right;\n",
       "    }\n",
       "</style>\n",
       "<table border=\"1\" class=\"dataframe\">\n",
       "  <thead>\n",
       "    <tr style=\"text-align: right;\">\n",
       "      <th></th>\n",
       "      <th>id</th>\n",
       "      <th>make</th>\n",
       "      <th>vin_number</th>\n",
       "      <th>model_year</th>\n",
       "      <th>owner_id</th>\n",
       "    </tr>\n",
       "  </thead>\n",
       "  <tbody>\n",
       "    <tr>\n",
       "      <th>0</th>\n",
       "      <td>V3015</td>\n",
       "      <td>Chevrolet</td>\n",
       "      <td>1G1ZD5EB6AF0053EX</td>\n",
       "      <td>2010</td>\n",
       "      <td>ID9857</td>\n",
       "    </tr>\n",
       "    <tr>\n",
       "      <th>1</th>\n",
       "      <td>V2014</td>\n",
       "      <td>Honda</td>\n",
       "      <td>JH2SC3327WM200123</td>\n",
       "      <td>1998</td>\n",
       "      <td>ID9857</td>\n",
       "    </tr>\n",
       "    <tr>\n",
       "      <th>2</th>\n",
       "      <td>V1475</td>\n",
       "      <td>Ford</td>\n",
       "      <td>1FTSW3XG5FKB11488</td>\n",
       "      <td>2015</td>\n",
       "      <td>ID5410</td>\n",
       "    </tr>\n",
       "    <tr>\n",
       "      <th>3</th>\n",
       "      <td>V786</td>\n",
       "      <td>Nissan</td>\n",
       "      <td>JN6JD02S0E0011849</td>\n",
       "      <td>2014</td>\n",
       "      <td>ID6651</td>\n",
       "    </tr>\n",
       "  </tbody>\n",
       "</table>\n",
       "</div>"
      ]
     },
     "metadata": {},
     "execution_count": 13
    }
   ],
   "metadata": {}
  },
  {
   "cell_type": "code",
   "execution_count": 14,
   "source": [
    "output = {\r\n",
    "        \"file_name\": \"\",\r\n",
    "        \"transaction\":{\r\n",
    "            \"date\":\"\",\r\n",
    "            \"customer\":{\r\n",
    "                \"id\":\"\",\r\n",
    "                \"name\":\"\",\r\n",
    "                \"address\":\"\",\r\n",
    "                \"phone\":\"\"\r\n",
    "            },\r\n",
    "            \"vehicles\":[]\r\n",
    "        }\r\n",
    "    }\r\n",
    "\r\n",
    "output = []"
   ],
   "outputs": [],
   "metadata": {}
  },
  {
   "cell_type": "code",
   "execution_count": 21,
   "source": [
    "for index,customer in customers_file.iterrows():\r\n",
    "    vehicles = []\r\n",
    "    print(customer)\r\n",
    "    for vehicle in vehicles_file:\r\n",
    "        if vehicle['owner_id'] == customer['id']:\r\n",
    "            vehicles.append({\r\n",
    "            \"id\":vehicle['id'],\r\n",
    "            \"make\":vehicle['make'],\r\n",
    "            \"vin_number\":vehicle['vin_number'],\r\n",
    "            \"model_year\": vehicle['model_year']\r\n",
    "         },)\r\n",
    "\r\n",
    "    output.append({\r\n",
    "        \"customer_file_name\": customers_file,\r\n",
    "        \"vehicle_file_name\": vehicles_file,\r\n",
    "        \"transaction\":{\r\n",
    "            \"date\":customer['date'],\r\n",
    "            \"customer\":{\r\n",
    "                \"id\":customer['id'],\r\n",
    "                \"name\":customer['name'],\r\n",
    "                \"address\":customer['address'],\r\n",
    "                \"phone\":customer['phone']\r\n",
    "            },\r\n",
    "            \"vehicles\":vehicles\r\n",
    "        }\r\n",
    "    })"
   ],
   "outputs": [
    {
     "output_type": "stream",
     "name": "stdout",
     "text": [
      "id\n",
      "name\n",
      "address\n",
      "phone\n",
      "date\n"
     ]
    }
   ],
   "metadata": {}
  },
  {
   "cell_type": "code",
   "execution_count": null,
   "source": [
    "output"
   ],
   "outputs": [],
   "metadata": {}
  }
 ],
 "metadata": {
  "orig_nbformat": 4,
  "language_info": {
   "name": "python",
   "version": "3.8.8",
   "mimetype": "text/x-python",
   "codemirror_mode": {
    "name": "ipython",
    "version": 3
   },
   "pygments_lexer": "ipython3",
   "nbconvert_exporter": "python",
   "file_extension": ".py"
  },
  "kernelspec": {
   "name": "python3",
   "display_name": "Python 3.8.8 64-bit ('base': conda)"
  },
  "interpreter": {
   "hash": "4905652b14e4b7eb92899b78ac499a22c488804455b27940a322fd82aaf71031"
  }
 },
 "nbformat": 4,
 "nbformat_minor": 2
}