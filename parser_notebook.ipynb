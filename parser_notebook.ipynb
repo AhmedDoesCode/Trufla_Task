{
 "cells": [
  {
   "cell_type": "code",
   "execution_count": 1,
   "source": [
    "import pandas as pd"
   ],
   "outputs": [],
   "metadata": {}
  },
  {
   "cell_type": "code",
   "execution_count": 2,
   "source": [
    "customers_file = pd.read_csv(\"input_data/csv/customers_file1.csv\")\r\n",
    "vehicles_file = pd.read_csv(\"input_data/csv/vehicles_file1.csv\")"
   ],
   "outputs": [],
   "metadata": {}
  },
  {
   "cell_type": "code",
   "execution_count": 7,
   "source": [
    "customers_file"
   ],
   "outputs": [
    {
     "output_type": "execute_result",
     "data": {
      "text/plain": [
       "       id              name                    address         phone  \\\n",
       "0  ID5410  Melissa T Miller         2837  Fidler Drive  210-624-7306   \n",
       "1  ID9857   Daniel I Walker       3853  Hilltop Street  413-655-7397   \n",
       "2  ID6651  Pauline J Buxton  1927  Pinnickinick Street  360-727-9275   \n",
       "\n",
       "         date  \n",
       "0  31/01/2020  \n",
       "1  25/04/2020  \n",
       "2  16/03/2020  "
      ],
      "text/html": [
       "<div>\n",
       "<style scoped>\n",
       "    .dataframe tbody tr th:only-of-type {\n",
       "        vertical-align: middle;\n",
       "    }\n",
       "\n",
       "    .dataframe tbody tr th {\n",
       "        vertical-align: top;\n",
       "    }\n",
       "\n",
       "    .dataframe thead th {\n",
       "        text-align: right;\n",
       "    }\n",
       "</style>\n",
       "<table border=\"1\" class=\"dataframe\">\n",
       "  <thead>\n",
       "    <tr style=\"text-align: right;\">\n",
       "      <th></th>\n",
       "      <th>id</th>\n",
       "      <th>name</th>\n",
       "      <th>address</th>\n",
       "      <th>phone</th>\n",
       "      <th>date</th>\n",
       "    </tr>\n",
       "  </thead>\n",
       "  <tbody>\n",
       "    <tr>\n",
       "      <th>0</th>\n",
       "      <td>ID5410</td>\n",
       "      <td>Melissa T Miller</td>\n",
       "      <td>2837  Fidler Drive</td>\n",
       "      <td>210-624-7306</td>\n",
       "      <td>31/01/2020</td>\n",
       "    </tr>\n",
       "    <tr>\n",
       "      <th>1</th>\n",
       "      <td>ID9857</td>\n",
       "      <td>Daniel I Walker</td>\n",
       "      <td>3853  Hilltop Street</td>\n",
       "      <td>413-655-7397</td>\n",
       "      <td>25/04/2020</td>\n",
       "    </tr>\n",
       "    <tr>\n",
       "      <th>2</th>\n",
       "      <td>ID6651</td>\n",
       "      <td>Pauline J Buxton</td>\n",
       "      <td>1927  Pinnickinick Street</td>\n",
       "      <td>360-727-9275</td>\n",
       "      <td>16/03/2020</td>\n",
       "    </tr>\n",
       "  </tbody>\n",
       "</table>\n",
       "</div>"
      ]
     },
     "metadata": {},
     "execution_count": 7
    }
   ],
   "metadata": {}
  },
  {
   "cell_type": "code",
   "execution_count": null,
   "source": [
    "vehicles_file"
   ],
   "outputs": [
    {
     "output_type": "execute_result",
     "data": {
      "text/plain": [
       "      id       make         vin_number  model_year owner_id\n",
       "0  V3015  Chevrolet  1G1ZD5EB6AF0053EX        2010   ID9857\n",
       "1  V2014      Honda  JH2SC3327WM200123        1998   ID9857\n",
       "2  V1475       Ford  1FTSW3XG5FKB11488        2015   ID5410\n",
       "3   V786     Nissan  JN6JD02S0E0011849        2014   ID6651"
      ],
      "text/html": [
       "<div>\n",
       "<style scoped>\n",
       "    .dataframe tbody tr th:only-of-type {\n",
       "        vertical-align: middle;\n",
       "    }\n",
       "\n",
       "    .dataframe tbody tr th {\n",
       "        vertical-align: top;\n",
       "    }\n",
       "\n",
       "    .dataframe thead th {\n",
       "        text-align: right;\n",
       "    }\n",
       "</style>\n",
       "<table border=\"1\" class=\"dataframe\">\n",
       "  <thead>\n",
       "    <tr style=\"text-align: right;\">\n",
       "      <th></th>\n",
       "      <th>id</th>\n",
       "      <th>make</th>\n",
       "      <th>vin_number</th>\n",
       "      <th>model_year</th>\n",
       "      <th>owner_id</th>\n",
       "    </tr>\n",
       "  </thead>\n",
       "  <tbody>\n",
       "    <tr>\n",
       "      <th>0</th>\n",
       "      <td>V3015</td>\n",
       "      <td>Chevrolet</td>\n",
       "      <td>1G1ZD5EB6AF0053EX</td>\n",
       "      <td>2010</td>\n",
       "      <td>ID9857</td>\n",
       "    </tr>\n",
       "    <tr>\n",
       "      <th>1</th>\n",
       "      <td>V2014</td>\n",
       "      <td>Honda</td>\n",
       "      <td>JH2SC3327WM200123</td>\n",
       "      <td>1998</td>\n",
       "      <td>ID9857</td>\n",
       "    </tr>\n",
       "    <tr>\n",
       "      <th>2</th>\n",
       "      <td>V1475</td>\n",
       "      <td>Ford</td>\n",
       "      <td>1FTSW3XG5FKB11488</td>\n",
       "      <td>2015</td>\n",
       "      <td>ID5410</td>\n",
       "    </tr>\n",
       "    <tr>\n",
       "      <th>3</th>\n",
       "      <td>V786</td>\n",
       "      <td>Nissan</td>\n",
       "      <td>JN6JD02S0E0011849</td>\n",
       "      <td>2014</td>\n",
       "      <td>ID6651</td>\n",
       "    </tr>\n",
       "  </tbody>\n",
       "</table>\n",
       "</div>"
      ]
     },
     "metadata": {},
     "execution_count": 6
    }
   ],
   "metadata": {}
  },
  {
   "cell_type": "code",
   "execution_count": null,
   "source": [],
   "outputs": [],
   "metadata": {}
  },
  {
   "cell_type": "code",
   "execution_count": null,
   "source": [
    "from bs4 import BeautifulSoup"
   ],
   "outputs": [],
   "metadata": {}
  },
  {
   "cell_type": "code",
   "execution_count": null,
   "source": [
    "with open('input_data/xml/file1.xml ', 'r') as f:\r\n",
    "    data = f.read()"
   ],
   "outputs": [],
   "metadata": {}
  },
  {
   "cell_type": "code",
   "execution_count": null,
   "source": [
    "data"
   ],
   "outputs": [
    {
     "output_type": "execute_result",
     "data": {
      "text/plain": [
       "'<?xml version=\"1.0\"?>\\n<Insurance>\\n   <Transaction>\\n      <Date>2020-10-15</Date>\\n      <Customer id=\"ID1011601\">\\n         <Name>Esmأ© Babin</Name>\\n         <Address>3344 Joy Lane</Address>\\n         <Phone>818-537-1995</Phone>\\n         <Units>\\n            <Auto>\\n               <Vehicle id=\"V1000\">\\n                  <Make>GMC</Make>\\n                  <VinNumber>1GDJC33648F200204</VinNumber>\\n                  <ModelYear>2008</ModelYear>\\n               </Vehicle>\\n               <Vehicle id=\"V1001\">\\n                  <Make>Chevrolet</Make>\\n                  <VinNumber>1G1Z464865F214437</VinNumber>\\n                  <ModelYear>2005</ModelYear>\\n               </Vehicle>\\n            </Auto>\\n         </Units>\\n      </Customer>\\n   </Transaction>\\n</Insurance>\\n'"
      ]
     },
     "metadata": {},
     "execution_count": 11
    }
   ],
   "metadata": {}
  },
  {
   "cell_type": "code",
   "execution_count": null,
   "source": [
    "import xmltodict, json"
   ],
   "outputs": [],
   "metadata": {}
  },
  {
   "cell_type": "code",
   "execution_count": null,
   "source": [
    "obj = xmltodict.parse(data)"
   ],
   "outputs": [],
   "metadata": {}
  },
  {
   "cell_type": "code",
   "execution_count": 18,
   "source": [
    "print(json.dumps(obj[\"Insurance\"]))"
   ],
   "outputs": [
    {
     "output_type": "stream",
     "name": "stdout",
     "text": [
      "{\"Transaction\": {\"Date\": \"2020-10-15\", \"Customer\": {\"@id\": \"ID1011601\", \"Name\": \"Esm\\u0623\\u00a9 Babin\", \"Address\": \"3344 Joy Lane\", \"Phone\": \"818-537-1995\", \"Units\": {\"Auto\": {\"Vehicle\": [{\"@id\": \"V1000\", \"Make\": \"GMC\", \"VinNumber\": \"1GDJC33648F200204\", \"ModelYear\": \"2008\"}, {\"@id\": \"V1001\", \"Make\": \"Chevrolet\", \"VinNumber\": \"1G1Z464865F214437\", \"ModelYear\": \"2005\"}]}}}}}\n"
     ]
    }
   ],
   "metadata": {}
  },
  {
   "cell_type": "code",
   "execution_count": null,
   "source": [],
   "outputs": [],
   "metadata": {}
  }
 ],
 "metadata": {
  "orig_nbformat": 4,
  "language_info": {
   "name": "python",
   "version": "3.8.8",
   "mimetype": "text/x-python",
   "codemirror_mode": {
    "name": "ipython",
    "version": 3
   },
   "pygments_lexer": "ipython3",
   "nbconvert_exporter": "python",
   "file_extension": ".py"
  },
  "kernelspec": {
   "name": "python3",
   "display_name": "Python 3.8.8 64-bit ('base': conda)"
  },
  "interpreter": {
   "hash": "4905652b14e4b7eb92899b78ac499a22c488804455b27940a322fd82aaf71031"
  }
 },
 "nbformat": 4,
 "nbformat_minor": 2
}